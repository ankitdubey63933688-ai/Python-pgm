{
  "nbformat": 4,
  "nbformat_minor": 0,
  "metadata": {
    "colab": {
      "provenance": [],
      "authorship_tag": "ABX9TyP7FoAo1jVprQSkJY2dLk62",
      "include_colab_link": true
    },
    "kernelspec": {
      "name": "python3",
      "display_name": "Python 3"
    },
    "language_info": {
      "name": "python"
    }
  },
  "cells": [
    {
      "cell_type": "markdown",
      "metadata": {
        "id": "view-in-github",
        "colab_type": "text"
      },
      "source": [
        "<a href=\"https://colab.research.google.com/github/ankitdubey63933688-ai/Python-pgm/blob/main/Untitled10.ipynb\" target=\"_parent\"><img src=\"https://colab.research.google.com/assets/colab-badge.svg\" alt=\"Open In Colab\"/></a>"
      ]
    },
    {
      "cell_type": "code",
      "execution_count": 1,
      "metadata": {
        "colab": {
          "base_uri": "https://localhost:8080/"
        },
        "id": "QUJEEuZhQAAl",
        "outputId": "90de0e66-03f9-44ca-daa4-72c326b67340"
      },
      "outputs": [
        {
          "output_type": "stream",
          "name": "stdout",
          "text": [
            "Enter your age: 18\n",
            "You are eligible for a Driving Licence.\n"
          ]
        }
      ],
      "source": [
        "# Driving Licence eligibility check\n",
        "\n",
        "age = int(input(\"Enter your age: \"))\n",
        "\n",
        "if age < 18:\n",
        "    print(\"You are not eligible for a Driving Licence.\")\n",
        "else:\n",
        "    print(\"You are eligible for a Driving Licence.\")"
      ]
    }
  ]
}